{
 "cells": [
  {
   "cell_type": "code",
   "execution_count": 4,
   "id": "06f9e1aa-3e7f-4d4e-88d7-b04ec680bfb8",
   "metadata": {
    "tags": []
   },
   "outputs": [],
   "source": [
    "# Data and NBA API\n",
    "import pandas as pd\n",
    "import numpy as np\n",
    "\n",
    "pd.options.display.max_columns = None\n",
    "from nba_api.stats.static import players\n",
    "from nba_api.stats.endpoints import shotchartdetail\n",
    "from nba_api.stats.endpoints import playercareerstats"
   ]
  },
  {
   "cell_type": "code",
   "execution_count": 5,
   "id": "97b76cee-f807-4f13-8cf8-b5352e18f3c7",
   "metadata": {
    "tags": []
   },
   "outputs": [],
   "source": [
    "def get_player_shots(player_name, season_id):\n",
    "    \"\"\"\n",
    "    player_name: name of the player (capitalized)\n",
    "    season_id: 2012-13\n",
    "    \"\"\"\n",
    "    \n",
    "    #Player dictionary\n",
    "    nba_players = players.get_players()\n",
    "    player_dict = [player for player in nba_players if player['full_name'] == player_name][0]\n",
    "    \n",
    "    # career df\n",
    "    career = playercareerstats.PlayerCareerStats(player_id=player_dict['id'])\n",
    "    career_df = career.get_data_frames()[0]\n",
    "    \n",
    "    # team id during the season\n",
    "    team_id = career_df[career_df['SEASON_ID'] == season_id]['TEAM_ID']\n",
    "    \n",
    "    # shotchardtdetail endpoint\n",
    "    shotchartlist = shotchartdetail.ShotChartDetail(team_id=int(team_id), \n",
    "                                                   player_id=int(player_dict['id']), \n",
    "                                                   season_type_all_star='Regular Season', \n",
    "                                                   season_nullable=season_id,\n",
    "                                                   context_measure_simple=\"FGA\").get_data_frames()\n",
    "    \n",
    "    return shotchartlist[0], shotchartlist[1]"
   ]
  },
  {
   "cell_type": "code",
   "execution_count": 10,
   "id": "0dd4ad51-f07f-45b9-a681-7e89d9fb608f",
   "metadata": {
    "tags": []
   },
   "outputs": [
    {
     "name": "stderr",
     "output_type": "stream",
     "text": [
      "/var/folders/dk/nhch8p4x2g3dlq02t4_vn3w00000gn/T/ipykernel_3874/2687757532.py:21: FutureWarning: Calling int on a single element Series is deprecated and will raise a TypeError in the future. Use int(ser.iloc[0]) instead\n",
      "  shotchartlist = shotchartdetail.ShotChartDetail(team_id=int(team_id),\n"
     ]
    }
   ],
   "source": [
    "player_shotchart_df, league_avg  = get_player_shots('Damian Lillard', '2019-20')"
   ]
  },
  {
   "cell_type": "code",
   "execution_count": 13,
   "id": "9e3c7de5-28f9-4f55-abed-78e037a7e2ea",
   "metadata": {
    "tags": []
   },
   "outputs": [],
   "source": [
    "#player_shotchart_df = player_shotchart_df['PLAYER_NAME', 'SHOT_DISTANCE', 'LOC_X', 'LOC_Y', 'SHOT_MADE_FLAG']"
   ]
  },
  {
   "cell_type": "code",
   "execution_count": null,
   "id": "df7758dd-3836-45c2-8484-1a9ad17c8548",
   "metadata": {},
   "outputs": [],
   "source": []
  }
 ],
 "metadata": {
  "kernelspec": {
   "display_name": "Python 3 (ipykernel)",
   "language": "python",
   "name": "python3"
  },
  "language_info": {
   "codemirror_mode": {
    "name": "ipython",
    "version": 3
   },
   "file_extension": ".py",
   "mimetype": "text/x-python",
   "name": "python",
   "nbconvert_exporter": "python",
   "pygments_lexer": "ipython3",
   "version": "3.11.5"
  }
 },
 "nbformat": 4,
 "nbformat_minor": 5
}
